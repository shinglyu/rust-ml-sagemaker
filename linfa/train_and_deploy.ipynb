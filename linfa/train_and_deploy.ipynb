{
 "cells": [
  {
   "cell_type": "markdown",
   "metadata": {},
   "source": [
    "# Training and Deploying the Linfa image for SageMaker\n",
    "\n",
    "This example notebook shows you how to do model training and deployment using SageMaker Python SDK. \n",
    "\n",
    "Notice: You must push the container image to ECR before running this notebook. See the `make build-and-push` command in `Makefile`.\n",
    "\n",
    "The code example in `src/bin` trains a decision tree classifier using the Linfa library on the Iris data set. "
   ]
  },
  {
   "cell_type": "markdown",
   "metadata": {},
   "source": [
    "# Training"
   ]
  },
  {
   "cell_type": "code",
   "execution_count": null,
   "metadata": {},
   "outputs": [],
   "source": [
    "import boto3\n",
    "import argparse\n",
    "from sagemaker import get_execution_role\n",
    "import sagemaker as sage\n",
    "from datetime import datetime\n",
    "import pandas as pd\n",
    "import json"
   ]
  },
  {
   "cell_type": "markdown",
   "metadata": {},
   "source": [
    "## Configurations\n",
    "Please modify the configuration in here as needed"
   ]
  },
  {
   "cell_type": "code",
   "execution_count": null,
   "metadata": {},
   "outputs": [],
   "source": [
    "# Set the S3 bucket to store the dataset, model artifact and other SageMaker resources\n",
    "# This is the bucket name, not the ARN or S3 URI\n",
    "default_bucket = \"your-bucket-name\" # Please create the bucket yourself\n",
    "image_name = \"linfa\""
   ]
  },
  {
   "cell_type": "code",
   "execution_count": null,
   "metadata": {},
   "outputs": [],
   "source": [
    "role = get_execution_role() # Use this when you run in a SageMaker notebook\n",
    "sess = sage.Session(default_bucket=default_bucket)\n",
    "sagemaker_client = boto3.client('sagemaker')"
   ]
  },
  {
   "cell_type": "code",
   "execution_count": null,
   "metadata": {},
   "outputs": [],
   "source": [
    "# Getting the image \n",
    "account = sess.boto_session.client(\"sts\").get_caller_identity()[\"Account\"]\n",
    "region = sess.boto_session.region_name\n",
    "image = \"{}.dkr.ecr.{}.amazonaws.com/{}\".format(account, region, image_name)\n",
    "print(image)"
   ]
  },
  {
   "cell_type": "code",
   "execution_count": null,
   "metadata": {},
   "outputs": [],
   "source": [
    "# Upload the dataset to default bucket\n",
    "dataset_dir = \"test_dir/input/data/training/\"\n",
    "prefix = f\"{image_name}/input/data/training\"  # S3 prefix # Fixme\n",
    "data_location = sess.upload_data(dataset_dir, key_prefix=prefix)"
   ]
  },
  {
   "cell_type": "code",
   "execution_count": null,
   "metadata": {},
   "outputs": [],
   "source": [
    "# Create the model estimator\n",
    "model = sage.estimator.Estimator(\n",
    "    image_uri=image,\n",
    "    role=role,\n",
    "    instance_count=1,\n",
    "    instance_type=\"ml.m5.large\",\n",
    "    output_path=f\"s3://{sess.default_bucket()}/{image_name}/output\",\n",
    "    sagemaker_session=sess,\n",
    ")\n",
    "\n",
    "job_name = f'{image_name}-train-{datetime.now().strftime(\"%Y%m%dT%H%M%S\")}'\n",
    "# Start training\n",
    "model.fit(\n",
    "    inputs=data_location,\n",
    "    job_name=job_name\n",
    ")"
   ]
  },
  {
   "cell_type": "code",
   "execution_count": null,
   "metadata": {},
   "outputs": [],
   "source": [
    "# Getting some statistics about the training job\n",
    "\n",
    "res = sagemaker_client.describe_training_job(TrainingJobName=job_name)\n",
    "result = {\n",
    "    'TrainingJobName': [res['TrainingJobName']],\n",
    "    'TrainingStartTime': [res['TrainingStartTime']],\n",
    "    'TrainingEndTime': [res['TrainingEndTime']],\n",
    "    'ProcessingTime': [(res['TrainingEndTime'] - res['TrainingStartTime'])]\n",
    "}\n",
    "print(json.dumps(res, indent=4, default=str))"
   ]
  },
  {
   "cell_type": "markdown",
   "metadata": {},
   "source": [
    "# Deployment"
   ]
  },
  {
   "cell_type": "code",
   "execution_count": null,
   "metadata": {},
   "outputs": [],
   "source": [
    "\n",
    "# Define the model\n",
    "model_name = image_name\n"
   ]
  },
  {
   "cell_type": "code",
   "execution_count": null,
   "metadata": {},
   "outputs": [],
   "source": [
    "\n",
    "# Create the model\n",
    "create_model_response = sagemaker_client.create_model(\n",
    "    ModelName=model_name,\n",
    "    Containers=[\n",
    "        {\n",
    "            'Image': image,\n",
    "            'Mode': 'SingleModel',\n",
    "            'ModelDataUrl': model.model_data,\n",
    "            'Environment': {'SAGEMAKER_CONTAINER_LOG_LEVEL': '20'}\n",
    "        }\n",
    "    ],\n",
    "    ExecutionRoleArn=role\n",
    ")\n",
    "if create_model_response['ResponseMetadata']['HTTPStatusCode'] == 200:\n",
    "    print('Model created successfully')\n",
    "else:\n",
    "    print('Model creation failed')\n",
    "    print(create_model_response)"
   ]
  },
  {
   "cell_type": "code",
   "execution_count": null,
   "metadata": {},
   "outputs": [],
   "source": [
    "# Create the endpoint configuration\n",
    "endpoint_config_name = f'{image_name}-endpoint-config'\n",
    "endpoint_config_response = sagemaker_client.create_endpoint_config(\n",
    "    EndpointConfigName=endpoint_config_name,\n",
    "    ProductionVariants=[\n",
    "        {\n",
    "            'VariantName': 'byoVariant',\n",
    "            'ModelName': model_name,\n",
    "            'ServerlessConfig': {\n",
    "                'MemorySizeInMB': 1024,\n",
    "                'MaxConcurrency': 1\n",
    "            }\n",
    "        }\n",
    "    ]\n",
    ")\n",
    "\n",
    "# Create the endpoint\n",
    "endpoint_name = f'endpoint-{job_name}'\n",
    "create_endpoint_response = sagemaker_client.create_endpoint(\n",
    "    EndpointName=endpoint_name,\n",
    "    EndpointConfigName=endpoint_config_name\n",
    ")\n",
    "if create_endpoint_response['ResponseMetadata']['HTTPStatusCode'] == 200:\n",
    "    print('Endpoint created successfully!')\n",
    "else:\n",
    "    print('Endpoint creation failed!')\n",
    "    print(create_endpoint_response)"
   ]
  },
  {
   "cell_type": "code",
   "execution_count": null,
   "metadata": {},
   "outputs": [],
   "source": [
    "\n",
    "# Wait for the endpoint to be created\n",
    "describe_endpoint_response = sagemaker_client.describe_endpoint(EndpointName=endpoint_name)\n",
    "while describe_endpoint_response['EndpointStatus'] == 'Creating':\n",
    "    describe_endpoint_response = sagemaker_client.describe_endpoint(EndpointName=endpoint_name)\n",
    "    print(describe_endpoint_response['EndpointStatus'])\n",
    "    import time\n",
    "    time.sleep(15)\n"
   ]
  },
  {
   "cell_type": "code",
   "execution_count": null,
   "metadata": {},
   "outputs": [],
   "source": [
    "runtime = boto3.client('sagemaker-runtime')\n",
    "# Make an inference request\n",
    "response = runtime.invoke_endpoint(\n",
    "    EndpointName=endpoint_name,\n",
    "    Body=b'1,2,3,4,5',\n",
    "    ContentType='text/csv'\n",
    ")\n",
    "\n",
    "print(response['Body'].read())"
   ]
  },
  {
   "cell_type": "markdown",
   "metadata": {},
   "source": [
    "# Cleanup\n"
   ]
  },
  {
   "cell_type": "code",
   "execution_count": null,
   "metadata": {},
   "outputs": [],
   "source": [
    "# Delete the endpoint\n",
    "sagemaker_client.delete_endpoint(EndpointName=endpoint_name)\n",
    "\n",
    "# Delete the endpoint configuration\n",
    "sagemaker_client.delete_endpoint_config(EndpointConfigName=endpoint_config_name)\n",
    "\n",
    "# Delete the model\n",
    "sagemaker_client.delete_model(ModelName=model_name)\n",
    "\n",
    "# Delete the S3 bucket objects\n",
    "s3 = boto3.client('s3')\n",
    "objects = s3.list_objects_v2(Bucket=default_bucket, Prefix=prefix)\n",
    "for obj in objects['Contents']:\n",
    "    s3.delete_object(Bucket=bucket_name, Key=obj['Key'])"
   ]
  }
 ],
 "metadata": {
  "kernelspec": {
   "display_name": "base",
   "language": "python",
   "name": "python3"
  },
  "language_info": {
   "codemirror_mode": {
    "name": "ipython",
    "version": 3
   },
   "file_extension": ".py",
   "mimetype": "text/x-python",
   "name": "python",
   "nbconvert_exporter": "python",
   "pygments_lexer": "ipython3",
   "version": "3.1.0"
  }
 },
 "nbformat": 4,
 "nbformat_minor": 2
}
