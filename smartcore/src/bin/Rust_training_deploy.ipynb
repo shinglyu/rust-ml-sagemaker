{
 "cells": [
  {
   "cell_type": "code",
   "execution_count": 68,
   "metadata": {},
   "outputs": [],
   "source": [
    ":dep aws-config = \"0.47.0\"\n",
    ":dep aws-sdk-sagemaker = \"0.17.0\"\n",
    ":dep aws-sdk-sagemakerruntime = \"0.17.0\"\n",
    ":dep tokio = { version = \"1\", features = [\"full\"]}\n",
    ":dep aws-smithy-types-convert = { version = \"0.47.0\", features = [\"convert-chrono\"] }"
   ]
  },
  {
   "cell_type": "code",
   "execution_count": 5,
   "metadata": {},
   "outputs": [],
   "source": [
    "let config = aws_config::load_from_env().await;"
   ]
  },
  {
   "cell_type": "code",
   "execution_count": 43,
   "metadata": {},
   "outputs": [],
   "source": [
    "//let client = aws_sdk_sagemaker::Client::new(&config);"
   ]
  },
  {
   "cell_type": "markdown",
   "metadata": {},
   "source": [
    "# List Training jobs"
   ]
  },
  {
   "cell_type": "code",
   "execution_count": 7,
   "metadata": {},
   "outputs": [
    {
     "name": "stderr",
     "output_type": "stream",
     "text": [
      "failed to construct request: Failed to load credentials from the credentials provider: Credentials provider timed out after 5 seconds\n"
     ]
    }
   ],
   "source": [
    "use aws_smithy_types_convert::date_time::DateTimeExt; // For .to_chrono_utc()\n",
    "\n",
    "let config = aws_config::load_from_env().await;\n",
    "let client = aws_sdk_sagemaker::Client::new(&config);\n",
    "let job_details = client.list_training_jobs().send().await?;\n",
    "\n",
    "println!(\"Jobs:\");\n",
    "\n",
    "for j in job_details.training_job_summaries().unwrap_or_default() {\n",
    "    let name = j.training_job_name().unwrap_or_default();\n",
    "    let creation_time = j.creation_time().unwrap().to_chrono_utc();\n",
    "    let training_end_time = j.training_end_time().unwrap().to_chrono_utc();\n",
    "\n",
    "    let status = j.training_job_status().unwrap();\n",
    "    let duration = training_end_time - creation_time;\n",
    "\n",
    "    println!(\"  Name:               {}\", name);\n",
    "    println!(\n",
    "        \"  Creation date/time: {}\",\n",
    "        creation_time.format(\"%Y-%m-%d@%H:%M:%S\")\n",
    "    );\n",
    "    println!(\"  Duration (seconds): {}\", duration.num_seconds());\n",
    "    println!(\"  Status:             {}\", status.as_ref());\n",
    "    println!();\n",
    "}\n"
   ]
  },
  {
   "cell_type": "code",
   "execution_count": 44,
   "metadata": {},
   "outputs": [
    {
     "name": "stderr",
     "output_type": "stream",
     "text": [
      "ResourceInUse: Training job names must be unique within an AWS account and region, and a training job with this name already exists (arn:aws:sagemaker:eu-central-1:936391532182:training-job/training-job-from-notebook1)\n"
     ]
    }
   ],
   "source": [
    "use aws_sdk_sagemaker::model::{AlgorithmSpecification as AlgoSpec, TrainingInputMode, TrainingInstanceType, StoppingCondition, OutputDataConfig, ResourceConfig};\n",
    "\n",
    "let config = aws_config::load_from_env().await;\n",
    "let client = aws_sdk_sagemaker::Client::new(&config);\n",
    "let training_job = client.create_training_job()\n",
    "    .training_job_name(\"Training-job-from-notebook1\")\n",
    "    .algorithm_specification(\n",
    "        AlgoSpec::builder()\n",
    "            .training_image(\"936391532182.dkr.ecr.eu-central-1.amazonaws.com/rust-sagemaker-train:latest\")\n",
    "            .training_input_mode(TrainingInputMode::File)\n",
    "            .build()\n",
    "    )\n",
    "    .role_arn(\"arn:aws:iam::936391532182:role/service-role/AmazonSageMaker-ExecutionRole-20211201T154965\")\n",
    "    .stopping_condition(\n",
    "        StoppingCondition::builder()\n",
    "            .max_runtime_in_seconds(300)\n",
    "            .build()\n",
    "    )\n",
    "    .output_data_config(\n",
    "        OutputDataConfig::builder()\n",
    "            .s3_output_path(\"s3://random-demo-936391532182/sagemaker-output\")\n",
    "            .build()\n",
    "    )\n",
    "    .resource_config(\n",
    "        ResourceConfig::builder()\n",
    "            .instance_type(TrainingInstanceType::MlM4Xlarge)\n",
    "            .instance_count(1)\n",
    "            .volume_size_in_gb(1)\n",
    "            .build()\n",
    "    )\n",
    "    .send().await?;\n",
    "\n",
    "println!(\"{:?}\", training_job);"
   ]
  },
  {
   "cell_type": "code",
   "execution_count": 67,
   "metadata": {},
   "outputs": [],
   "source": [
    ":clear"
   ]
  },
  {
   "cell_type": "code",
   "execution_count": 16,
   "metadata": {},
   "outputs": [
    {
     "name": "stdout",
     "output_type": "stream",
     "text": [
      "CreateTrainingJobOutput { training_job_arn: Some(\"arn:aws:sagemaker:eu-central-1:936391532182:training-job/training-job-from-notebook1\") }\n"
     ]
    }
   ],
   "source": [
    "println!(\"{:?}\", training_job);"
   ]
  },
  {
   "cell_type": "markdown",
   "metadata": {},
   "source": [
    "# TODO: deploy endpoint"
   ]
  },
  {
   "cell_type": "markdown",
   "metadata": {},
   "source": [
    "# Invoke endpoint"
   ]
  },
  {
   "cell_type": "code",
   "execution_count": 69,
   "metadata": {},
   "outputs": [
    {
     "name": "stdout",
     "output_type": "stream",
     "text": [
      "Ok(\"{\\\"prediction\\\":21.615257}\")\n"
     ]
    },
    {
     "data": {
      "text/plain": [
       "()"
      ]
     },
     "execution_count": 69,
     "metadata": {},
     "output_type": "execute_result"
    }
   ],
   "source": [
    "use std::str;\n",
    "use aws_sdk_sagemakerruntime::types::Blob;\n",
    "\n",
    "let config = aws_config::load_from_env().await;\n",
    "let client = aws_sdk_sagemakerruntime::Client::new(&config);\n",
    "{\n",
    "let inference_result = client.invoke_endpoint()\n",
    "    .endpoint_name(\"rust-model-4\") // TODO: laod this from deployment\n",
    "    .body(Blob::new(\"1.0,2.0,3.0,4.0,5.0,6.0,7.0,8.0,9.0,10.0,11.0,12.0,13.0\".as_bytes()))\n",
    "    .content_type(\"text/csv\")\n",
    "    \n",
    "    .send().await?;\n",
    "println!(\"{:?}\", String::from_utf8(inference_result.body().unwrap().clone().into_inner()));\n",
    "}"
   ]
  },
  {
   "cell_type": "code",
   "execution_count": 65,
   "metadata": {},
   "outputs": [
    {
     "data": {
      "text/plain": [
       "linker: lld\n"
      ]
     },
     "execution_count": 65,
     "metadata": {},
     "output_type": "execute_result"
    }
   ],
   "source": [
    ":linker lld"
   ]
  },
  {
   "cell_type": "code",
   "execution_count": 58,
   "metadata": {},
   "outputs": [
    {
     "data": {
      "text/plain": [
       "sccache: true\n"
      ]
     },
     "execution_count": 58,
     "metadata": {},
     "output_type": "execute_result"
    }
   ],
   "source": [
    ":sccache"
   ]
  },
  {
   "cell_type": "code",
   "execution_count": null,
   "metadata": {},
   "outputs": [],
   "source": []
  }
 ],
 "metadata": {
  "instance_type": "ml.m5.4xlarge",
  "kernelspec": {
   "display_name": "Rust (arn:aws:sagemaker:eu-central-1:936697816551:image/datascience-1.0)",
   "language": "rust",
   "name": "rust__SAGEMAKER_INTERNAL__arn:aws:sagemaker:eu-central-1:936697816551:image/datascience-1.0"
  },
  "language_info": {
   "codemirror_mode": "rust",
   "file_extension": ".rs",
   "mimetype": "text/rust",
   "name": "Rust",
   "pygment_lexer": "rust",
   "version": ""
  }
 },
 "nbformat": 4,
 "nbformat_minor": 4
}
